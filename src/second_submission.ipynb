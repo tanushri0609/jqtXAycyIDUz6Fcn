{
 "cells": [
  {
   "cell_type": "code",
   "execution_count": 296,
   "id": "c13698fa",
   "metadata": {},
   "outputs": [],
   "source": [
    "#Import libraries\n",
    "import pandas as pd\n",
    "from matplotlib import pyplot as plt\n",
    "import seaborn as sb\n",
    "from sklearn.model_selection import train_test_split\n",
    "from sklearn.svm import SVC\n",
    "from sklearn.ensemble import RandomForestClassifier\n",
    "from sklearn.linear_model import LogisticRegression\n",
    "import xgboost as xgb\n",
    "from sklearn.metrics import classification_report,accuracy_score,f1_score\n",
    "from mlxtend.feature_selection import ExhaustiveFeatureSelector\n",
    "import numpy as np\n",
    "from imblearn.over_sampling import SMOTE"
   ]
  },
  {
   "cell_type": "markdown",
   "id": "832c0d29",
   "metadata": {},
   "source": [
    "# Read The Dataset"
   ]
  },
  {
   "cell_type": "code",
   "execution_count": 297,
   "id": "bd455193",
   "metadata": {},
   "outputs": [
    {
     "data": {
      "text/html": [
       "<div>\n",
       "<style scoped>\n",
       "    .dataframe tbody tr th:only-of-type {\n",
       "        vertical-align: middle;\n",
       "    }\n",
       "\n",
       "    .dataframe tbody tr th {\n",
       "        vertical-align: top;\n",
       "    }\n",
       "\n",
       "    .dataframe thead th {\n",
       "        text-align: right;\n",
       "    }\n",
       "</style>\n",
       "<table border=\"1\" class=\"dataframe\">\n",
       "  <thead>\n",
       "    <tr style=\"text-align: right;\">\n",
       "      <th></th>\n",
       "      <th>Y</th>\n",
       "      <th>X1</th>\n",
       "      <th>X2</th>\n",
       "      <th>X3</th>\n",
       "      <th>X4</th>\n",
       "      <th>X5</th>\n",
       "      <th>X6</th>\n",
       "    </tr>\n",
       "  </thead>\n",
       "  <tbody>\n",
       "    <tr>\n",
       "      <th>0</th>\n",
       "      <td>0</td>\n",
       "      <td>3</td>\n",
       "      <td>3</td>\n",
       "      <td>3</td>\n",
       "      <td>4</td>\n",
       "      <td>2</td>\n",
       "      <td>4</td>\n",
       "    </tr>\n",
       "    <tr>\n",
       "      <th>1</th>\n",
       "      <td>0</td>\n",
       "      <td>3</td>\n",
       "      <td>2</td>\n",
       "      <td>3</td>\n",
       "      <td>5</td>\n",
       "      <td>4</td>\n",
       "      <td>3</td>\n",
       "    </tr>\n",
       "    <tr>\n",
       "      <th>2</th>\n",
       "      <td>1</td>\n",
       "      <td>5</td>\n",
       "      <td>3</td>\n",
       "      <td>3</td>\n",
       "      <td>3</td>\n",
       "      <td>3</td>\n",
       "      <td>5</td>\n",
       "    </tr>\n",
       "    <tr>\n",
       "      <th>3</th>\n",
       "      <td>0</td>\n",
       "      <td>5</td>\n",
       "      <td>4</td>\n",
       "      <td>3</td>\n",
       "      <td>3</td>\n",
       "      <td>3</td>\n",
       "      <td>5</td>\n",
       "    </tr>\n",
       "    <tr>\n",
       "      <th>4</th>\n",
       "      <td>0</td>\n",
       "      <td>5</td>\n",
       "      <td>4</td>\n",
       "      <td>3</td>\n",
       "      <td>3</td>\n",
       "      <td>3</td>\n",
       "      <td>5</td>\n",
       "    </tr>\n",
       "  </tbody>\n",
       "</table>\n",
       "</div>"
      ],
      "text/plain": [
       "   Y  X1  X2  X3  X4  X5  X6\n",
       "0  0   3   3   3   4   2   4\n",
       "1  0   3   2   3   5   4   3\n",
       "2  1   5   3   3   3   3   5\n",
       "3  0   5   4   3   3   3   5\n",
       "4  0   5   4   3   3   3   5"
      ]
     },
     "execution_count": 297,
     "metadata": {},
     "output_type": "execute_result"
    }
   ],
   "source": [
    "#Read the CSV File\n",
    "data_frame=pd.read_csv('..\\data\\ACME-HappinessSurvey2020.csv', encoding = 'unicode_escape', sep=',', header=0)\n",
    "data_frame.head()"
   ]
  },
  {
   "cell_type": "markdown",
   "id": "5894f42f",
   "metadata": {},
   "source": [
    "# Exploratory Data Analysis"
   ]
  },
  {
   "cell_type": "code",
   "execution_count": 165,
   "id": "994874af",
   "metadata": {},
   "outputs": [
    {
     "data": {
      "text/plain": [
       "(126, 7)"
      ]
     },
     "execution_count": 165,
     "metadata": {},
     "output_type": "execute_result"
    }
   ],
   "source": [
    "# This operation informs the number of rows and columns\n",
    "data_frame.shape"
   ]
  },
  {
   "cell_type": "code",
   "execution_count": 166,
   "id": "71610f80",
   "metadata": {},
   "outputs": [
    {
     "name": "stdout",
     "output_type": "stream",
     "text": [
      "<class 'pandas.core.frame.DataFrame'>\n",
      "RangeIndex: 126 entries, 0 to 125\n",
      "Data columns (total 7 columns):\n",
      " #   Column  Non-Null Count  Dtype\n",
      "---  ------  --------------  -----\n",
      " 0   Y       126 non-null    int64\n",
      " 1   X1      126 non-null    int64\n",
      " 2   X2      126 non-null    int64\n",
      " 3   X3      126 non-null    int64\n",
      " 4   X4      126 non-null    int64\n",
      " 5   X5      126 non-null    int64\n",
      " 6   X6      126 non-null    int64\n",
      "dtypes: int64(7)\n",
      "memory usage: 7.0 KB\n"
     ]
    }
   ],
   "source": [
    "# Look for null data\n",
    "data_frame.info()"
   ]
  },
  {
   "cell_type": "code",
   "execution_count": 167,
   "id": "ddba351d",
   "metadata": {},
   "outputs": [
    {
     "data": {
      "image/png": "[encoded data removed]",
      "text/plain": [
       "<Figure size 1260x1260 with 56 Axes>"
      ]
     },
     "metadata": {
      "needs_background": "light"
     },
     "output_type": "display_data"
    }
   ],
   "source": [
    "# Visulize the relation between two columns\n",
    "sb.pairplot(data_frame, palette='husl')\n",
    "plt.show()"
   ]
  },
  {
   "cell_type": "markdown",
   "id": "c96d0852",
   "metadata": {},
   "source": [
    "## Check in detail the relationship of each feature with label"
   ]
  },
  {
   "cell_type": "code",
   "execution_count": 168,
   "id": "e4ce083a",
   "metadata": {},
   "outputs": [
    {
     "data": {
      "image/png": "[encoded data removed]",
      "text/plain": [
       "<Figure size 432x288 with 1 Axes>"
      ]
     },
     "metadata": {
      "needs_background": "light"
     },
     "output_type": "display_data"
    }
   ],
   "source": [
    "# Check the effect of x1[my order was delivered on time] on y \n",
    "data_frame.groupby(['X1','Y']).size().plot.bar(color=('r'))\n",
    "plt.show()"
   ]
  },
  {
   "cell_type": "code",
   "execution_count": 169,
   "id": "d4672560",
   "metadata": {},
   "outputs": [
    {
     "data": {
      "image/png": "[encoded data removed]",
      "text/plain": [
       "<Figure size 432x288 with 1 Axes>"
      ]
     },
     "metadata": {
      "needs_background": "light"
     },
     "output_type": "display_data"
    }
   ],
   "source": [
    "# Check the effect of x2 [contents of my order was as I expected] on y \n",
    "data_frame.groupby(['X2','Y']).size().plot.bar(color=('r','b'))\n",
    "plt.show()"
   ]
  },
  {
   "cell_type": "code",
   "execution_count": 170,
   "id": "5c0a943e",
   "metadata": {},
   "outputs": [
    {
     "data": {
      "image/png": "[encoded data removed]",
      "text/plain": [
       "<Figure size 432x288 with 1 Axes>"
      ]
     },
     "metadata": {
      "needs_background": "light"
     },
     "output_type": "display_data"
    }
   ],
   "source": [
    "# Check the effect of x3 [I ordered everything I wanted to order] on y \n",
    "data_frame.groupby(['X3','Y']).size().plot.bar(color=('r','b'))\n",
    "plt.show()"
   ]
  },
  {
   "cell_type": "code",
   "execution_count": 171,
   "id": "ea3e1bc8",
   "metadata": {},
   "outputs": [
    {
     "data": {
      "image/png": "[encoded data removed]",
      "text/plain": [
       "<Figure size 432x288 with 1 Axes>"
      ]
     },
     "metadata": {
      "needs_background": "light"
     },
     "output_type": "display_data"
    }
   ],
   "source": [
    "# Check the effect of x4 [I paid a good price for my order] on y \n",
    "data_frame.groupby(['X4','Y']).size().plot.bar(color=('b','r'))\n",
    "plt.show()"
   ]
  },
  {
   "cell_type": "code",
   "execution_count": 172,
   "id": "fcee65bd",
   "metadata": {},
   "outputs": [
    {
     "data": {
      "image/png": "[encoded data removed]",
      "text/plain": [
       "<Figure size 432x288 with 1 Axes>"
      ]
     },
     "metadata": {
      "needs_background": "light"
     },
     "output_type": "display_data"
    }
   ],
   "source": [
    "# Check the effect of x5 [I am satisfied with my courier] on y \n",
    "data_frame.groupby(['X5','Y']).size().plot.bar(color=('r','b'))\n",
    "plt.show()"
   ]
  },
  {
   "cell_type": "code",
   "execution_count": 173,
   "id": "6c3708c8",
   "metadata": {},
   "outputs": [
    {
     "data": {
      "image/png": "[encoded data removed]",
      "text/plain": [
       "<Figure size 432x288 with 1 Axes>"
      ]
     },
     "metadata": {
      "needs_background": "light"
     },
     "output_type": "display_data"
    }
   ],
   "source": [
    "# Check the effect of x6 [the app makes ordering easy for me] on y \n",
    "data_frame.groupby(['X6','Y']).size().plot.bar(color=('r','b'))\n",
    "plt.show()"
   ]
  },
  {
   "cell_type": "markdown",
   "id": "8ac90627",
   "metadata": {},
   "source": [
    "## Check and Treat the Data Imbalance"
   ]
  },
  {
   "cell_type": "code",
   "execution_count": 174,
   "id": "e39caec0",
   "metadata": {},
   "outputs": [
    {
     "data": {
      "image/png": "[encoded data removed]",
      "text/plain": [
       "<Figure size 432x288 with 1 Axes>"
      ]
     },
     "metadata": {
      "needs_background": "light"
     },
     "output_type": "display_data"
    },
    {
     "name": "stdout",
     "output_type": "stream",
     "text": [
      "1    69\n",
      "0    57\n",
      "Name: Y, dtype: int64\n"
     ]
    }
   ],
   "source": [
    "# check the data is balanced or imbalanced\n",
    "data_frame['Y'].hist()\n",
    "plt.show()\n",
    "print(data_frame['Y'].value_counts())"
   ]
  },
  {
   "cell_type": "code",
   "execution_count": 299,
   "id": "0da74825",
   "metadata": {},
   "outputs": [],
   "source": [
    "# Function to split features and label\n",
    "\n",
    "def split_data(data_file):\n",
    "    y=data_file['Y']\n",
    "    features=data_file.drop(['Y'],axis=1)\n",
    "    return(y,features)"
   ]
  },
  {
   "cell_type": "code",
   "execution_count": 176,
   "id": "9bfc691e",
   "metadata": {},
   "outputs": [
    {
     "name": "stdout",
     "output_type": "stream",
     "text": [
      "0    69\n",
      "1    69\n",
      "Name: Y, dtype: int64\n"
     ]
    }
   ],
   "source": [
    "# Treat the imbalance data\n",
    "\n",
    "y,training_set=split_data(data_frame)\n",
    "oversample = SMOTE()\n",
    "training_set,y =oversample.fit_resample(training_set,y)\n",
    "oversampled_dataframe=pd.concat([pd.DataFrame(y),pd.DataFrame(training_set)],axis=1)\n",
    "print(oversampled_dataframe['Y'].value_counts())"
   ]
  },
  {
   "cell_type": "markdown",
   "id": "fb8f4203",
   "metadata": {},
   "source": [
    "# Feature Selection"
   ]
  },
  {
   "cell_type": "code",
   "execution_count": 177,
   "id": "e74db680",
   "metadata": {},
   "outputs": [
    {
     "data": {
      "image/png": "[encoded data removed]",
      "text/plain": [
       "<Figure size 432x288 with 2 Axes>"
      ]
     },
     "metadata": {
      "needs_background": "light"
     },
     "output_type": "display_data"
    }
   ],
   "source": [
    "# Find the correlation between y and X\n",
    "sb.heatmap(oversampled_dataframe.corr(),annot=True)\n",
    "plt.show()"
   ]
  },
  {
   "cell_type": "code",
   "execution_count": 178,
   "id": "f8513231",
   "metadata": {},
   "outputs": [
    {
     "name": "stderr",
     "output_type": "stream",
     "text": [
      "Features: 41/41"
     ]
    },
    {
     "name": "stdout",
     "output_type": "stream",
     "text": [
      "Index(['X1', 'X3'], dtype='object')\n",
      "0.6850607484373059\n"
     ]
    }
   ],
   "source": [
    "# Find Exhaustive feature selection \n",
    "\n",
    "y,training_set=split_data(data_frame)\n",
    "efs = ExhaustiveFeatureSelector(RandomForestClassifier(),\n",
    "                              min_features = 1,max_features = 3,scoring = 'roc_auc',cv = 2)\n",
    "efs = efs.fit(training_set,y)\n",
    "\n",
    "selected_features = training_set.columns[list(efs.best_idx_)]\n",
    "print(selected_features)\n",
    "\n",
    "print(efs.best_score_)"
   ]
  },
  {
   "cell_type": "code",
   "execution_count": 268,
   "id": "d2d2b62d",
   "metadata": {},
   "outputs": [
    {
     "data": {
      "text/html": [
       "<div>\n",
       "<style scoped>\n",
       "    .dataframe tbody tr th:only-of-type {\n",
       "        vertical-align: middle;\n",
       "    }\n",
       "\n",
       "    .dataframe tbody tr th {\n",
       "        vertical-align: top;\n",
       "    }\n",
       "\n",
       "    .dataframe thead th {\n",
       "        text-align: right;\n",
       "    }\n",
       "</style>\n",
       "<table border=\"1\" class=\"dataframe\">\n",
       "  <thead>\n",
       "    <tr style=\"text-align: right;\">\n",
       "      <th></th>\n",
       "      <th>Y</th>\n",
       "      <th>X1</th>\n",
       "      <th>X3</th>\n",
       "      <th>X5</th>\n",
       "      <th>X6</th>\n",
       "    </tr>\n",
       "  </thead>\n",
       "  <tbody>\n",
       "    <tr>\n",
       "      <th>0</th>\n",
       "      <td>0</td>\n",
       "      <td>3</td>\n",
       "      <td>3</td>\n",
       "      <td>2</td>\n",
       "      <td>4</td>\n",
       "    </tr>\n",
       "    <tr>\n",
       "      <th>1</th>\n",
       "      <td>0</td>\n",
       "      <td>3</td>\n",
       "      <td>3</td>\n",
       "      <td>4</td>\n",
       "      <td>3</td>\n",
       "    </tr>\n",
       "    <tr>\n",
       "      <th>2</th>\n",
       "      <td>1</td>\n",
       "      <td>5</td>\n",
       "      <td>3</td>\n",
       "      <td>3</td>\n",
       "      <td>5</td>\n",
       "    </tr>\n",
       "    <tr>\n",
       "      <th>3</th>\n",
       "      <td>0</td>\n",
       "      <td>5</td>\n",
       "      <td>3</td>\n",
       "      <td>3</td>\n",
       "      <td>5</td>\n",
       "    </tr>\n",
       "    <tr>\n",
       "      <th>4</th>\n",
       "      <td>0</td>\n",
       "      <td>5</td>\n",
       "      <td>3</td>\n",
       "      <td>3</td>\n",
       "      <td>5</td>\n",
       "    </tr>\n",
       "  </tbody>\n",
       "</table>\n",
       "</div>"
      ],
      "text/plain": [
       "   Y  X1  X3  X5  X6\n",
       "0  0   3   3   2   4\n",
       "1  0   3   3   4   3\n",
       "2  1   5   3   3   5\n",
       "3  0   5   3   3   5\n",
       "4  0   5   3   3   5"
      ]
     },
     "execution_count": 268,
     "metadata": {},
     "output_type": "execute_result"
    }
   ],
   "source": [
    "# Select the features for building models\n",
    "\n",
    "data_for_training=oversampled_dataframe.drop(['X2','X4'], axis=1)\n",
    "data_for_training.head()"
   ]
  },
  {
   "cell_type": "code",
   "execution_count": 269,
   "id": "151a4433",
   "metadata": {},
   "outputs": [],
   "source": [
    "# Data partitioning for building model and later validation\n",
    "\n",
    "y, training_set = split_data(data_for_training)\n",
    "X_train, X_test, y_train, y_test=train_test_split(training_set, y, test_size=0.30)"
   ]
  },
  {
   "cell_type": "markdown",
   "id": "f70aa07a",
   "metadata": {},
   "source": [
    "# Classification Models"
   ]
  },
  {
   "cell_type": "code",
   "execution_count": 270,
   "id": "00cea149",
   "metadata": {},
   "outputs": [],
   "source": [
    "# Apply SVM\n",
    "\n",
    "classifier = SVC(kernel='linear')\n",
    "classifier.fit(X_train,y_train)\n",
    "y_pred = classifier.predict(X_test)\n",
    "\n",
    "\n",
    "#Calculate accuracy and F1 score\n",
    "\n",
    "result_svm = accuracy_score(y_test,y_pred)\n",
    "f1_svm = f1_score(y_test,y_pred)"
   ]
  },
  {
   "cell_type": "code",
   "execution_count": 271,
   "id": "0f911057",
   "metadata": {},
   "outputs": [],
   "source": [
    "#Apply Logistic Regression\n",
    "\n",
    "classifier=LogisticRegression()\n",
    "classifier.fit(X_train, y_train)\n",
    "y_pred=classifier.predict(X_test)\n",
    "\n",
    "\n",
    "#Calculate accuracy and F1 score\n",
    "\n",
    "result_logistic_reg = accuracy_score(y_test,y_pred)\n",
    "f1_logistic_reg = f1_score(y_test,y_pred)"
   ]
  },
  {
   "cell_type": "code",
   "execution_count": 293,
   "id": "8a8a5f45",
   "metadata": {},
   "outputs": [],
   "source": [
    "#Apply Random Forest Classifier\n",
    "\n",
    "classifier=RandomForestClassifier(n_estimators =100)\n",
    "classifier.fit(X_train, y_train)\n",
    "y_pred=classifier.predict(X_test)\n",
    "\n",
    "\n",
    "#Calculate accuracy and F1 score\n",
    "\n",
    "result_ran_forest = accuracy_score(y_test,y_pred)\n",
    "f1_ran_forest= f1_score(y_test,y_pred)"
   ]
  },
  {
   "cell_type": "code",
   "execution_count": 287,
   "id": "3efd13b4",
   "metadata": {},
   "outputs": [],
   "source": [
    "# Apply Xgboost Classifier\n",
    "\n",
    "classifier = xgb.XGBClassifier(n_estimators = 60, learning_rate = 0.04)\n",
    "classifier.fit(X_train,y_train)\n",
    "y_pred = classifier.predict(X_test)\n",
    "\n",
    "\n",
    "#Calculate accuracy and F1 score\n",
    "\n",
    "result_xgb = accuracy_score(y_test,y_pred)\n",
    "f1_xgb= f1_score(y_test,y_pred)"
   ]
  },
  {
   "cell_type": "markdown",
   "id": "f514cd21",
   "metadata": {},
   "source": [
    "# Result"
   ]
  },
  {
   "cell_type": "code",
   "execution_count": 294,
   "id": "d5532d85",
   "metadata": {
    "scrolled": true
   },
   "outputs": [
    {
     "name": "stdout",
     "output_type": "stream",
     "text": [
      "Accuracy of SVM: 0.7380952380952381\n",
      "Accuracy of Logistic Regression: 0.7380952380952381\n",
      "Accuracy of Random Forest: 0.7142857142857143\n",
      "Accuracy of XGBoost: 0.7619047619047619\n"
     ]
    }
   ],
   "source": [
    "# Compare Accuracy\n",
    "\n",
    "print(\"Accuracy of SVM:\",result_svm)\n",
    "print(\"Accuracy of Logistic Regression:\",result_logistic_reg)\n",
    "print(\"Accuracy of Random Forest:\",result_ran_forest)\n",
    "print(\"Accuracy of XGBoost:\",result_xgb)"
   ]
  },
  {
   "cell_type": "code",
   "execution_count": 295,
   "id": "ff5d5d07",
   "metadata": {},
   "outputs": [
    {
     "name": "stdout",
     "output_type": "stream",
     "text": [
      "F1 score of SVM: 0.7317073170731706\n",
      "F1 score of Logistic Regression: 0.7317073170731706\n",
      "F1 score of Random Forest: 0.7\n",
      "F1 score of XGBoost: 0.761904761904762\n"
     ]
    }
   ],
   "source": [
    "# Compare the F1 score\n",
    "\n",
    "print(\"F1 score of SVM:\",f1_svm)\n",
    "print(\"F1 score of Logistic Regression:\",f1_logistic_reg)\n",
    "print(\"F1 score of Random Forest:\",f1_ran_forest)\n",
    "print(\"F1 score of XGBoost:\",f1_xgb)"
   ]
  },
  {
   "cell_type": "markdown",
   "id": "f9f2307b",
   "metadata": {},
   "source": [
    "# Conclusion"
   ]
  },
  {
   "cell_type": "markdown",
   "id": "7c21a53c",
   "metadata": {},
   "source": [
    "As per company's need and the data received from them, we build models to find the happy and unhappy customer. Of all 4 models XGBoost showed the best performance with 0.7619."
   ]
  }
 ],
 "metadata": {
  "kernelspec": {
   "display_name": "Python 3",
   "language": "python",
   "name": "python3"
  },
  "language_info": {
   "codemirror_mode": {
    "name": "ipython",
    "version": 3
   },
   "file_extension": ".py",
   "mimetype": "text/x-python",
   "name": "python",
   "nbconvert_exporter": "python",
   "pygments_lexer": "ipython3",
   "version": "3.8.8"
  }
 },
 "nbformat": 4,
 "nbformat_minor": 5
}
